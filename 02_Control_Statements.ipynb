{
  "nbformat": 4,
  "nbformat_minor": 0,
  "metadata": {
    "colab": {
      "name": "02 - Control Statements.ipynb",
      "provenance": [],
      "collapsed_sections": []
    },
    "kernelspec": {
      "name": "python3",
      "display_name": "Python 3"
    }
  },
  "cells": [
    {
      "cell_type": "markdown",
      "metadata": {
        "id": "MsYoxcZLfa2E",
        "colab_type": "text"
      },
      "source": [
        "#Assignment Solution\n",
        "\n",
        "The drakes equation had 4 variable factors as listed below\n",
        "\n",
        "* n = Avg. number of planets that can support life\n",
        "* i = Percentage of those which can go to develop intelligent life\n",
        "* c = Percentage of those who are willing to contact\n",
        "* l = Expected Lifetime of civilisation\n",
        "\n",
        "Rest of the factors are constant as listed below\n",
        "\n",
        "* R (Rate of star creation) = 7\n",
        "* p (Percentage of stars with planets) = 40%\n",
        "* f (Percentage of planets that can develop life) = 13%\n",
        "\n",
        "\n",
        "\n"
      ]
    },
    {
      "cell_type": "code",
      "metadata": {
        "id": "JYlyeIJBluAp",
        "colab_type": "code",
        "outputId": "3956c2ef-add2-4507-bbd0-065ac44c36b5",
        "colab": {
          "base_uri": "https://localhost:8080/",
          "height": 139
        }
      },
      "source": [
        "#Let's declare the values for the constants\n",
        "\n",
        "R = 7       # Rate of star creation\n",
        "p = 40/100  # Percentage of stars with planets\n",
        "f = 13/100  # Percentage of planets that can develop life\n",
        "\n",
        "\n",
        "#Let's get user input for the varible factors for the equation\n",
        "n = int(input(\"How many planets per star do you think can support life? \"))\n",
        "i = float(input(\"What percentage of these do you think can develop intelligent life? \"))/100\n",
        "c = float(input(\"What percentage of the planets do you think can communicate? \"))/100\n",
        "L = int(input(\"What do expect the lifetime of their civilization to be? (in years) \"))\n",
        "\n",
        "num_detectable_civilizations = R * p * f * n * i * c * L\n",
        "\n",
        "print(\"\\n\")\n",
        "print(\"Based on the values entered the number of detectable civilizations is :\", num_detectable_civilizations)"
      ],
      "execution_count": 44,
      "outputs": [
        {
          "output_type": "stream",
          "text": [
            "How many planets per star do you think can support life? 2\n",
            "What percentage of these do you think can develop intelligent life? 15.3\n",
            "What percentage of the planets do you think can communicate? 70.3\n",
            "What do expect the lifetime of their civilization to be? (in years) 5000\n",
            "\n",
            "\n",
            "Based on the values entered the number of detectable civilizations is : 391.51476\n"
          ],
          "name": "stdout"
        }
      ]
    },
    {
      "cell_type": "markdown",
      "metadata": {
        "id": "7ok-_c87lf9y",
        "colab_type": "text"
      },
      "source": [
        "#Control Statements\n",
        "\n",
        "Control Statements are used to control the flow of execution of the program.\n",
        "\n",
        "These are of 3 types :-\n",
        "\n",
        "\n",
        "1.   Conditional Statements\n",
        "2.   Iteration Statements\n",
        "3.   Jump Statements\n",
        "\n"
      ]
    },
    {
      "cell_type": "markdown",
      "metadata": {
        "id": "Dab1mjkN0klx",
        "colab_type": "text"
      },
      "source": [
        "##Indentation\n",
        "Indentation means to leave a equal number of white spaces on the left of the line of code.\n",
        "\n",
        "To uniquely identify the statements in a block of equal number of spaces must be left on the left side of a line code.\n",
        "\n",
        "This also helps in increasing the readability of the code."
      ]
    },
    {
      "cell_type": "markdown",
      "metadata": {
        "id": "wyG0MrMmvGhl",
        "colab_type": "text"
      },
      "source": [
        "##Conditional Statements\n",
        "\n",
        "These statements are used when we want a block of code to be executed based on a certain condition."
      ]
    },
    {
      "cell_type": "markdown",
      "metadata": {
        "id": "CI2vE5n6zdr-",
        "colab_type": "text"
      },
      "source": [
        "###If Statement\n",
        "\n",
        "This statement is used when we want to execute a block of code if a certain condition is true."
      ]
    },
    {
      "cell_type": "markdown",
      "metadata": {
        "id": "e4UIY2KW0YGH",
        "colab_type": "text"
      },
      "source": [
        "The code in the if block must be indented to prevent any indentation errors."
      ]
    },
    {
      "cell_type": "code",
      "metadata": {
        "id": "NUC6aFu9s6jh",
        "colab_type": "code",
        "outputId": "85618e43-b314-4c48-c9c6-fa74499a9638",
        "colab": {
          "base_uri": "https://localhost:8080/",
          "height": 130
        }
      },
      "source": [
        "# The code in an if block must be indented else we get an indentation error\n",
        "num1 = 10\n",
        "num2 = 20\n",
        "\n",
        "if num1 < num2:\n",
        "print(\"num 2 is greater.\")"
      ],
      "execution_count": 45,
      "outputs": [
        {
          "output_type": "error",
          "ename": "IndentationError",
          "evalue": "ignored",
          "traceback": [
            "\u001b[0;36m  File \u001b[0;32m\"<ipython-input-45-d7f111e20e9d>\"\u001b[0;36m, line \u001b[0;32m6\u001b[0m\n\u001b[0;31m    print(\"num 2 is greater.\")\u001b[0m\n\u001b[0m        ^\u001b[0m\n\u001b[0;31mIndentationError\u001b[0m\u001b[0;31m:\u001b[0m expected an indented block\n"
          ]
        }
      ]
    },
    {
      "cell_type": "code",
      "metadata": {
        "id": "NuVKNecGzrvi",
        "colab_type": "code",
        "colab": {}
      },
      "source": [
        "num1 = 30\n",
        "num2 = 20\n",
        "\n",
        "if num1 < num2:\n",
        "    print(\"num 2 is greater.\") # indentation"
      ],
      "execution_count": 0,
      "outputs": []
    },
    {
      "cell_type": "markdown",
      "metadata": {
        "id": "8-Ln0qyD2VWF",
        "colab_type": "text"
      },
      "source": [
        "We can use membership operators with if"
      ]
    },
    {
      "cell_type": "code",
      "metadata": {
        "id": "xFgWFuLR2n3v",
        "colab_type": "code",
        "outputId": "753da262-ab44-4a64-b155-aa15319f3e40",
        "colab": {
          "base_uri": "https://localhost:8080/",
          "height": 34
        }
      },
      "source": [
        "if \"Happy\" in \"Happy Learning\":\n",
        "    print(\"Happy\")"
      ],
      "execution_count": 0,
      "outputs": [
        {
          "output_type": "stream",
          "text": [
            "Happy\n"
          ],
          "name": "stdout"
        }
      ]
    },
    {
      "cell_type": "code",
      "metadata": {
        "id": "SnA4WECI2JJN",
        "colab_type": "code",
        "colab": {}
      },
      "source": [
        "if 1 not in range(0,5):\n",
        "    print(\"1 is not in the list\")"
      ],
      "execution_count": 0,
      "outputs": []
    },
    {
      "cell_type": "markdown",
      "metadata": {
        "id": "GcmLrawn26Fr",
        "colab_type": "text"
      },
      "source": [
        "###if  else Statement\n",
        "\n",
        "These statements are used if there is more than one condition to be tested."
      ]
    },
    {
      "cell_type": "code",
      "metadata": {
        "id": "rn46Z4-723mq",
        "colab_type": "code",
        "outputId": "94765531-64cb-4d91-db69-60f75a55232f",
        "colab": {
          "base_uri": "https://localhost:8080/",
          "height": 34
        }
      },
      "source": [
        "num1 = 30\n",
        "num2 = 20\n",
        "\n",
        "if num1 > num2:\n",
        "    print(\"num 1 is greater.\")  # when the condition is true\n",
        "else:\n",
        "    print(\"num 2 is greater.\")  # when the condition is fale"
      ],
      "execution_count": 49,
      "outputs": [
        {
          "output_type": "stream",
          "text": [
            "num 1 is greater.\n"
          ],
          "name": "stdout"
        }
      ]
    },
    {
      "cell_type": "markdown",
      "metadata": {
        "id": "6m2T5Ku43lkd",
        "colab_type": "text"
      },
      "source": [
        "###elif statement\n",
        "\n",
        "This is used after an if for covering all other condition."
      ]
    },
    {
      "cell_type": "code",
      "metadata": {
        "id": "Mx4MYctH3v5v",
        "colab_type": "code",
        "outputId": "9f4b387b-4bd7-45f9-d684-e0a2f379d4c4",
        "colab": {
          "base_uri": "https://localhost:8080/",
          "height": 34
        }
      },
      "source": [
        "num1 = 20\n",
        "num2 = 30\n",
        "\n",
        "if num1 > num2:\n",
        "    print(\"num 1 is greater.\")\n",
        "elif num2 > num1:\n",
        "    print(\"num 2 is greater.\")\n",
        "else:\n",
        "    print(\"num 1 equals num 2\")"
      ],
      "execution_count": 52,
      "outputs": [
        {
          "output_type": "stream",
          "text": [
            "num 2 is greater.\n"
          ],
          "name": "stdout"
        }
      ]
    },
    {
      "cell_type": "markdown",
      "metadata": {
        "id": "eamr3HAxBIPm",
        "colab_type": "text"
      },
      "source": [
        "###Nested if else\n",
        "\n",
        "Nested conditional statements means a conditional statement within a conditional statement."
      ]
    },
    {
      "cell_type": "code",
      "metadata": {
        "id": "KKkkepxlBqOb",
        "colab_type": "code",
        "outputId": "bbeec2e5-4d8d-4809-d446-068ef1bb90cb",
        "colab": {
          "base_uri": "https://localhost:8080/",
          "height": 34
        }
      },
      "source": [
        "num = -4\n",
        "\n",
        "if num >= 0:\n",
        "    if num == 0:\n",
        "        print(\"Zero\")\n",
        "    else:\n",
        "        print(\"Positive number\")\n",
        "else:\n",
        "    print(\"Negative number\")"
      ],
      "execution_count": 55,
      "outputs": [
        {
          "output_type": "stream",
          "text": [
            "Negative number\n"
          ],
          "name": "stdout"
        }
      ]
    },
    {
      "cell_type": "markdown",
      "metadata": {
        "id": "4czmuq3q3vgX",
        "colab_type": "text"
      },
      "source": [
        "###Shorthand's\n",
        "\n",
        "Shorthand means to a smaller or consise way of writing the code that interprets to same output."
      ]
    },
    {
      "cell_type": "code",
      "metadata": {
        "id": "SICtjng85BMR",
        "colab_type": "code",
        "outputId": "4fcee094-b81c-4bf4-f0ab-10699aed9515",
        "colab": {
          "base_uri": "https://localhost:8080/",
          "height": 34
        }
      },
      "source": [
        "# Shorthand for else statement\n",
        "num1 = 30\n",
        "num2 = 20\n",
        "\n",
        "print(\"num 1 is greater.\") if num1 > num2 else print(\"num 2 is greater.\")"
      ],
      "execution_count": 57,
      "outputs": [
        {
          "output_type": "stream",
          "text": [
            "num 1 is greater.\n"
          ],
          "name": "stdout"
        }
      ]
    },
    {
      "cell_type": "markdown",
      "metadata": {
        "id": "6tCfBRdUAd0s",
        "colab_type": "text"
      },
      "source": [
        "The above technique is also known as a ternary operation."
      ]
    },
    {
      "cell_type": "markdown",
      "metadata": {
        "id": "dVIPo6rFClGd",
        "colab_type": "text"
      },
      "source": [
        "###Using multiple conditions\n",
        "\n",
        "If we want more than one condition to be checked before the execution of particular code we use logical 'and' and 'or' operators."
      ]
    },
    {
      "cell_type": "markdown",
      "metadata": {
        "id": "vDo3rvNyC2uA",
        "colab_type": "text"
      },
      "source": [
        "Logical and returns true when we want the conditions on both side of 'and' to be true."
      ]
    },
    {
      "cell_type": "code",
      "metadata": {
        "id": "xXyQhuJiDABV",
        "colab_type": "code",
        "outputId": "b553499a-f4b4-41a7-85a1-dcb46ffd84c3",
        "colab": {
          "base_uri": "https://localhost:8080/",
          "height": 34
        }
      },
      "source": [
        "num = 50\n",
        "\n",
        "if num < 100 and num > 0:\n",
        "    print(\"Num lies in between 0 and 100\")"
      ],
      "execution_count": 0,
      "outputs": [
        {
          "output_type": "stream",
          "text": [
            "Num lies in between 0 and 100\n"
          ],
          "name": "stdout"
        }
      ]
    },
    {
      "cell_type": "markdown",
      "metadata": {
        "id": "yPtGa3tyDZpB",
        "colab_type": "text"
      },
      "source": [
        "Logical or returns true if the condition on anyone side of 'or' true."
      ]
    },
    {
      "cell_type": "code",
      "metadata": {
        "id": "Ac5RmDBRDtx1",
        "colab_type": "code",
        "colab": {}
      },
      "source": [
        "num = 10\n",
        "\n",
        "if num == 0 or num > 10:\n",
        "    print(\"Num is morethan or equal to 0\")"
      ],
      "execution_count": 0,
      "outputs": []
    },
    {
      "cell_type": "markdown",
      "metadata": {
        "id": "BN3jNKksUCa8",
        "colab_type": "text"
      },
      "source": [
        "###Problem Statement\n",
        "\n",
        "Now that we know how to use the conditional statements let's solve a problem."
      ]
    },
    {
      "cell_type": "markdown",
      "metadata": {
        "id": "7dTVXf6hUN0Y",
        "colab_type": "text"
      },
      "source": [
        "**Leap year problem**\n",
        "\n",
        "Let's write a program to find if the given year is leap year or not."
      ]
    },
    {
      "cell_type": "code",
      "metadata": {
        "id": "FwgvYOc7HkJ3",
        "colab_type": "code",
        "colab": {
          "base_uri": "https://localhost:8080/",
          "height": 34
        },
        "outputId": "eb9e57f3-5168-4a8e-f11c-1ce2c5c19f9d"
      },
      "source": [
        "12%5 == 0"
      ],
      "execution_count": 61,
      "outputs": [
        {
          "output_type": "execute_result",
          "data": {
            "text/plain": [
              "False"
            ]
          },
          "metadata": {
            "tags": []
          },
          "execution_count": 61
        }
      ]
    },
    {
      "cell_type": "code",
      "metadata": {
        "id": "CxfkcMGxUhE5",
        "colab_type": "code",
        "outputId": "4ce2492f-22b5-4471-f303-684b84b5bd58",
        "colab": {
          "base_uri": "https://localhost:8080/",
          "height": 52
        }
      },
      "source": [
        "#Program to find no. of days in a month\n",
        "year = int(input(\"Enter the year : \"))\n",
        "\n",
        "if (year % 4 == 0) and (not(year % 100 == 0) or (year % 400 == 0)):\n",
        "    print(year, \"is a leap year.\")\n",
        "else:\n",
        "    print(year, \"is not a leap year.\")"
      ],
      "execution_count": 63,
      "outputs": [
        {
          "output_type": "stream",
          "text": [
            "Enter the year : 2000\n",
            "2000 is a leap year.\n"
          ],
          "name": "stdout"
        }
      ]
    },
    {
      "cell_type": "code",
      "metadata": {
        "id": "A-G7gGFWI_1x",
        "colab_type": "code",
        "colab": {
          "base_uri": "https://localhost:8080/",
          "height": 52
        },
        "outputId": "439a9dc0-d9c3-4d85-b633-6458aadeb343"
      },
      "source": [
        "# Program to control traffic signal commands\n",
        "code = input(\"Enter the color of signal (Red/Green/Yellow):\")\n",
        "\n",
        "if code == 'Red':\n",
        "    print(\"STOP\")\n",
        "elif code == 'Green':\n",
        "    print(\"GO\")\n",
        "elif code == 'Yellow':\n",
        "    print(\"READY\")\n",
        "else:\n",
        "    print(\"Invalid option please enter correct color code!\")"
      ],
      "execution_count": 65,
      "outputs": [
        {
          "output_type": "stream",
          "text": [
            "Enter the color of signal (Red/Green/Yellow):Pink\n",
            "Invalid option please enter correct color code!\n"
          ],
          "name": "stdout"
        }
      ]
    },
    {
      "cell_type": "markdown",
      "metadata": {
        "id": "IkHUGfpyCH3i",
        "colab_type": "text"
      },
      "source": [
        "##Iteration Statements\n",
        "\n",
        "These statements are used when we want to iterate a particular block of code multiple times."
      ]
    },
    {
      "cell_type": "markdown",
      "metadata": {
        "id": "gBZYUWdJEifY",
        "colab_type": "text"
      },
      "source": [
        "###For loop\n",
        "\n",
        "A for loop is used for iterating over a sequence."
      ]
    },
    {
      "cell_type": "markdown",
      "metadata": {
        "id": "98OOa2mRxVm2",
        "colab_type": "text"
      },
      "source": [
        "### Range function"
      ]
    },
    {
      "cell_type": "code",
      "metadata": {
        "id": "IzOWaWUjIvpM",
        "colab_type": "code",
        "outputId": "13b81fc3-c6af-4856-c71d-922fc1cd91ca",
        "colab": {
          "base_uri": "https://localhost:8080/",
          "height": 34
        }
      },
      "source": [
        "print(list(range(30, 1, -2)))"
      ],
      "execution_count": 70,
      "outputs": [
        {
          "output_type": "stream",
          "text": [
            "[30, 28, 26, 24, 22, 20, 18, 16, 14, 12, 10, 8, 6, 4, 2]\n"
          ],
          "name": "stdout"
        }
      ]
    },
    {
      "cell_type": "markdown",
      "metadata": {
        "id": "uUwiutb7JK1o",
        "colab_type": "text"
      },
      "source": [
        "Iterating through lists, tuples, sets can be done in the same manner."
      ]
    },
    {
      "cell_type": "markdown",
      "metadata": {
        "id": "lDp24yVGJTvk",
        "colab_type": "text"
      },
      "source": [
        "To execute a statement to a specified number of times we use the **range()** method."
      ]
    },
    {
      "cell_type": "code",
      "metadata": {
        "id": "CDiEUvhHJJeZ",
        "colab_type": "code",
        "outputId": "7f373317-f313-4acd-def5-c59775182386",
        "colab": {
          "base_uri": "https://localhost:8080/",
          "height": 156
        }
      },
      "source": [
        "#To print upto a number\n",
        "for num in range(15, 0 , -2):\n",
        "    print(num)  # repeate many times"
      ],
      "execution_count": 77,
      "outputs": [
        {
          "output_type": "stream",
          "text": [
            "15\n",
            "13\n",
            "11\n",
            "9\n",
            "7\n",
            "5\n",
            "3\n",
            "1\n"
          ],
          "name": "stdout"
        }
      ]
    },
    {
      "cell_type": "code",
      "metadata": {
        "id": "PDlRtcuiJ34O",
        "colab_type": "code",
        "outputId": "9bde8f51-984f-4812-9770-9ede34573c4d",
        "colab": {
          "base_uri": "https://localhost:8080/",
          "height": 104
        }
      },
      "source": [
        "# To iterate from a number to another\n",
        "\n",
        "for num in range(5, 10):\n",
        "    print(num)"
      ],
      "execution_count": 76,
      "outputs": [
        {
          "output_type": "stream",
          "text": [
            "5\n",
            "6\n",
            "7\n",
            "8\n",
            "9\n"
          ],
          "name": "stdout"
        }
      ]
    },
    {
      "cell_type": "code",
      "metadata": {
        "id": "AAyN0rx3KHbS",
        "colab_type": "code",
        "outputId": "2d7470ab-439d-4a6c-ccc9-e738c7f3c13d",
        "colab": {
          "base_uri": "https://localhost:8080/",
          "height": 34
        }
      },
      "source": [
        "# To iterate from a number to another with a specific interval\n",
        "for num in range(30, 1 , -2):\n",
        "    print(num, end = ' ')"
      ],
      "execution_count": 80,
      "outputs": [
        {
          "output_type": "stream",
          "text": [
            "30 28 26 24 22 20 18 16 14 12 10 8 6 4 2 "
          ],
          "name": "stdout"
        }
      ]
    },
    {
      "cell_type": "markdown",
      "metadata": {
        "id": "XNjoKGCfKd39",
        "colab_type": "text"
      },
      "source": [
        "###Else with a for loop\n",
        "\n",
        "else is used with a for loop to execute a set of statements after a loop has finished."
      ]
    },
    {
      "cell_type": "code",
      "metadata": {
        "id": "th5VwO72KrkE",
        "colab_type": "code",
        "outputId": "2d3c5e6b-69cc-495a-8047-1d976e4bd990",
        "colab": {
          "base_uri": "https://localhost:8080/",
          "height": 191
        }
      },
      "source": [
        "#Else with a for loop\n",
        "\n",
        "for num in range(11, 2, -1):\n",
        "    print(num)\n",
        "else:\n",
        "    print(\"Printed upto 10\")"
      ],
      "execution_count": 82,
      "outputs": [
        {
          "output_type": "stream",
          "text": [
            "11\n",
            "10\n",
            "9\n",
            "8\n",
            "7\n",
            "6\n",
            "5\n",
            "4\n",
            "3\n",
            "Printed upto 10\n"
          ],
          "name": "stdout"
        }
      ]
    },
    {
      "cell_type": "markdown",
      "metadata": {
        "id": "nCXeNjeEM-gJ",
        "colab_type": "text"
      },
      "source": [
        "### Program for factorial"
      ]
    },
    {
      "cell_type": "code",
      "metadata": {
        "id": "BiIKgHb26uO_",
        "colab_type": "code",
        "outputId": "e78d322e-92d8-4da9-8016-0c176f5416b7",
        "colab": {
          "base_uri": "https://localhost:8080/",
          "height": 72
        }
      },
      "source": [
        "num = int(input(\"Enter a number : \"))\n",
        "\n",
        "factorial = 1\n",
        "\n",
        "if num >= 1:\n",
        "\n",
        "    for i in range (1, num + 1):  # range function exclude the second argument\n",
        "        factorial = factorial * i\n",
        "\n",
        "print(\"Factorial of \",num , \" is : \",factorial)"
      ],
      "execution_count": 87,
      "outputs": [
        {
          "output_type": "stream",
          "text": [
            "Enter a number : 100\n",
            "Factorial of  100  is :  93326215443944152681699238856266700490715968264381621468592963895217599993229915608941463976156518286253697920827223758251185210916864000000000000000000000000\n"
          ],
          "name": "stdout"
        }
      ]
    },
    {
      "cell_type": "markdown",
      "metadata": {
        "id": "buyFcll4Li2Q",
        "colab_type": "text"
      },
      "source": [
        "###Nested for loop\n",
        "\n",
        "A for loop inside a for loop."
      ]
    },
    {
      "cell_type": "markdown",
      "metadata": {
        "id": "ssuXs0e4MC78",
        "colab_type": "text"
      },
      "source": [
        "###While Loop\n",
        "\n",
        "This loop is used to execute a block untill a certain condition is true."
      ]
    },
    {
      "cell_type": "code",
      "metadata": {
        "id": "GOmKeG-MMh5i",
        "colab_type": "code",
        "outputId": "0d25e194-8ea8-4475-b734-b17e6cd46660",
        "colab": {
          "base_uri": "https://localhost:8080/",
          "height": 52
        }
      },
      "source": [
        "#While loop\n",
        "user = \"Happy\"\n",
        "pswd = \"123\"\n",
        "\n",
        "ans = \"\"\n",
        "\n",
        "while ans != pswd:\n",
        "    ans = input(\"Enter password : \")\n",
        "\n",
        "    if ans == pswd:\n",
        "        print(\"Password matched\")\n",
        "\n",
        "    else:\n",
        "        print(\"Wrong password Try again!\")"
      ],
      "execution_count": 89,
      "outputs": [
        {
          "output_type": "stream",
          "text": [
            "Enter password : 123\n",
            "Password matched\n"
          ],
          "name": "stdout"
        }
      ]
    },
    {
      "cell_type": "markdown",
      "metadata": {
        "colab_type": "text",
        "id": "A6eReA21Nh1Z"
      },
      "source": [
        "###Else with a while loop\n",
        "\n",
        "else is used with a while loop to execute a set of statements after a loop has finished."
      ]
    },
    {
      "cell_type": "code",
      "metadata": {
        "colab_type": "code",
        "outputId": "b917321f-63fa-4036-e61a-4495821a53c1",
        "id": "9226oJBGNh1i",
        "colab": {
          "base_uri": "https://localhost:8080/",
          "height": 173
        }
      },
      "source": [
        "#While loop with else\n",
        "user = \"Happy\"\n",
        "pswd = \"123\"\n",
        "\n",
        "ans = \"\"\n",
        "\n",
        "while ans != pswd:\n",
        "    ans = input(\"Enter password : \")\n",
        "\n",
        "    if ans == pswd:\n",
        "        print(\"Password matched\")\n",
        "\n",
        "    else:\n",
        "        print(\"Wrong password Try again!\")\n",
        "else:\n",
        "    print(\"{} verified his password.\".format(user))"
      ],
      "execution_count": 91,
      "outputs": [
        {
          "output_type": "stream",
          "text": [
            "Enter password : qeqe\n",
            "Wrong password Try again!\n",
            "Enter password : rwew\n",
            "Wrong password Try again!\n",
            "Enter password : sasasa\n",
            "Wrong password Try again!\n",
            "Enter password : 123\n",
            "Password matched\n",
            "Happy verified his password.\n"
          ],
          "name": "stdout"
        }
      ]
    },
    {
      "cell_type": "code",
      "metadata": {
        "id": "UUkfPY4KSxfT",
        "colab_type": "code",
        "colab": {}
      },
      "source": [
        "print(\"Hello\")"
      ],
      "execution_count": 0,
      "outputs": []
    },
    {
      "cell_type": "markdown",
      "metadata": {
        "id": "YjgC_U8jYCXz",
        "colab_type": "text"
      },
      "source": [
        "###Problem Statement\n",
        "\n",
        "Now that we know enough about loops let's have a problem."
      ]
    },
    {
      "cell_type": "markdown",
      "metadata": {
        "id": "qCp4_ggvYnTP",
        "colab_type": "text"
      },
      "source": [
        "\n",
        "**Coin exchange Problem**\n",
        "\n",
        "In this problem we will be having number displayed and what the user has to do is enter the coin value that sums up to the shown number."
      ]
    },
    {
      "cell_type": "code",
      "metadata": {
        "id": "UImPtihFY21p",
        "colab_type": "code",
        "outputId": "d84635cf-dba1-412f-b39b-67429a0550ff",
        "colab": {
          "base_uri": "https://localhost:8080/",
          "height": 193
        }
      },
      "source": [
        "import random\n",
        "\n",
        "terminate = False\n",
        "empty_str = ''\n",
        "\n",
        "#start\n",
        "while not terminate:\n",
        "\n",
        "    amt = random.randint(1, 30)\n",
        "    print(\"Enter coins that add up to\", amt, \"per line.\\n\")\n",
        "\n",
        "    game_over = False\n",
        "    total = 0\n",
        "\n",
        "    while not game_over:\n",
        "        valid = False\n",
        "\n",
        "        while not valid:\n",
        "            if total == 0:\n",
        "                coin = input(\"Enter first coin : \") \n",
        "            else:\n",
        "                coin = input(\"Enter next coin : \")           \n",
        "\n",
        "            if coin in (empty_str, '1', '2', '5', '10'):\n",
        "                valid = True\n",
        "            else:\n",
        "                print(\"Invalid entry\")\n",
        "\n",
        "        if coin == empty_str:\n",
        "            if total == amt:\n",
        "                terminate = True\n",
        "                print('Correct!')\n",
        "            else:\n",
        "                print(\"Sorry- you only entered\", total, \"rupees.\")\n",
        "\n",
        "            game_over = True\n",
        "\n",
        "        else:\n",
        "            total += int(coin)\n",
        "\n",
        "            if total > amt:\n",
        "                print(\"Sorry - total amount exceeds\", amt, \"rupees.\")\n",
        "                game_over = True\n",
        "        \n",
        "\n",
        "        if game_over:\n",
        "            coin = input('\\nTry again (y/n)? : ')\n",
        "\n",
        "            if coin == 'n':\n",
        "                terminate = True"
      ],
      "execution_count": 0,
      "outputs": [
        {
          "output_type": "stream",
          "text": [
            "Enter coins that add up to 7 per line.\n",
            "\n",
            "Enter first coin : 10\n",
            "Sorry - total amount exceeds 7 rupees.\n",
            "\n",
            "Try again (y/n)? : y\n",
            "Enter coins that add up to 3 per line.\n",
            "\n"
          ],
          "name": "stdout"
        }
      ]
    },
    {
      "cell_type": "markdown",
      "metadata": {
        "id": "18S9iCFWTJmT",
        "colab_type": "text"
      },
      "source": [
        "##Jump Statements\n",
        "\n",
        "Jump statements in python are used to alter the flow of a loop like you want to skip a part of a loop or terminate a loop."
      ]
    },
    {
      "cell_type": "markdown",
      "metadata": {
        "id": "JEA1iprRdr35",
        "colab_type": "text"
      },
      "source": [
        "**continue statement**\n",
        "\n",
        "This is used to skip the current execution and move on to next execution."
      ]
    },
    {
      "cell_type": "code",
      "metadata": {
        "id": "AlnfuMWRfGF6",
        "colab_type": "code",
        "outputId": "9dc2ca65-70a1-4122-efe5-326d9886a120",
        "colab": {
          "base_uri": "https://localhost:8080/",
          "height": 102
        }
      },
      "source": [
        "#Continue statement in a while loop\n",
        "\n",
        "i = 0\n",
        "\n",
        "while i < 6:\n",
        "  i += 1\n",
        "\n",
        "  if i == 3:\n",
        "    continue\n",
        "\n",
        "  print(i)"
      ],
      "execution_count": 0,
      "outputs": [
        {
          "output_type": "stream",
          "text": [
            "1\n",
            "2\n",
            "4\n",
            "5\n",
            "6\n"
          ],
          "name": "stdout"
        }
      ]
    },
    {
      "cell_type": "markdown",
      "metadata": {
        "colab_type": "text",
        "id": "CEtiHYL0fWL8"
      },
      "source": [
        "**break statement**\n",
        "\n",
        "This is used to stop the execution and move to execution of code outside the block."
      ]
    },
    {
      "cell_type": "code",
      "metadata": {
        "colab_type": "code",
        "outputId": "b5baafb9-f928-4cee-959c-3bb8eb1c1264",
        "id": "AlL8tGU_fWMa",
        "colab": {
          "base_uri": "https://localhost:8080/",
          "height": 68
        }
      },
      "source": [
        "#break statement in a while loop\n",
        "\n",
        "i = 0\n",
        "\n",
        "while i < 6:\n",
        "  i += 1\n",
        "\n",
        "  if i == 4:\n",
        "    break\n",
        "\n",
        "  print(i)"
      ],
      "execution_count": 0,
      "outputs": [
        {
          "output_type": "stream",
          "text": [
            "1\n",
            "2\n",
            "3\n"
          ],
          "name": "stdout"
        }
      ]
    }
  ]
}